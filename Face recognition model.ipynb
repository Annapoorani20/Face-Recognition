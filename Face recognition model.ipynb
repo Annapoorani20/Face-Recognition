{
 "cells": [
  {
   "cell_type": "code",
   "execution_count": 19,
   "id": "e38f09ff",
   "metadata": {
    "scrolled": true
   },
   "outputs": [],
   "source": [
    "import keras \n",
    "from keras.models import Sequential\n",
    "from keras.layers import Convolution2D\n",
    "from keras.layers import MaxPooling2D\n",
    "from keras.layers import Flatten\n",
    "from keras.layers import Dense,BatchNormalization\n",
    "from keras.preprocessing import image\n",
    "import numpy as np\n",
    "import cv2"
   ]
  },
  {
   "cell_type": "code",
   "execution_count": 20,
   "id": "3ff9482c",
   "metadata": {},
   "outputs": [],
   "source": [
    "from keras.preprocessing.image import ImageDataGenerator"
   ]
  },
  {
   "cell_type": "code",
   "execution_count": 21,
   "id": "1fc8821e",
   "metadata": {},
   "outputs": [],
   "source": [
    "train_datagen=ImageDataGenerator(rescale=1./255, shear_range=0.2, zoom_range=0.2, horizontal_flip=True)\n",
    "test_datagen=ImageDataGenerator(rescale=1./255)"
   ]
  },
  {
   "cell_type": "code",
   "execution_count": 22,
   "id": "79043f02",
   "metadata": {},
   "outputs": [
    {
     "name": "stdout",
     "output_type": "stream",
     "text": [
      "Found 1503 images belonging to 3 classes.\n",
      "Found 308 images belonging to 3 classes.\n"
     ]
    }
   ],
   "source": [
    "x_train=train_datagen.flow_from_directory(r'dataset1/training', target_size=(64,64), batch_size=32, class_mode='categorical')\n",
    "x_test=test_datagen.flow_from_directory(r'dataset1/test', target_size=(64,64), batch_size=32, class_mode='categorical')"
   ]
  },
  {
   "cell_type": "code",
   "execution_count": 23,
   "id": "0dd8ef0b",
   "metadata": {},
   "outputs": [
    {
     "name": "stdout",
     "output_type": "stream",
     "text": [
      "{'Albeena': 0, 'Poorani': 1, 'Srinidhi': 2}\n"
     ]
    }
   ],
   "source": [
    "print(x_train.class_indices)"
   ]
  },
  {
   "cell_type": "code",
   "execution_count": 24,
   "id": "ee695652",
   "metadata": {},
   "outputs": [],
   "source": [
    "model=Sequential()"
   ]
  },
  {
   "cell_type": "code",
   "execution_count": 25,
   "id": "0c97f823",
   "metadata": {},
   "outputs": [],
   "source": [
    "model.add(Convolution2D(32,(3,3),input_shape=(64,64,3),activation='relu'))"
   ]
  },
  {
   "cell_type": "code",
   "execution_count": 26,
   "id": "5fda807b",
   "metadata": {},
   "outputs": [],
   "source": [
    "model.add(MaxPooling2D(pool_size=(2,2)))"
   ]
  },
  {
   "cell_type": "code",
   "execution_count": 27,
   "id": "0b3ec8f5",
   "metadata": {},
   "outputs": [],
   "source": [
    "model.add(Flatten())"
   ]
  },
  {
   "cell_type": "code",
   "execution_count": 28,
   "id": "d1d4c1a8",
   "metadata": {},
   "outputs": [
    {
     "name": "stderr",
     "output_type": "stream",
     "text": [
      "C:\\Users\\Home\\anaconda3\\envs\\tensorflow\\lib\\site-packages\\ipykernel_launcher.py:1: UserWarning: Update your `Dense` call to the Keras 2 API: `Dense(units=128, activation=\"relu\", kernel_initializer=\"random_uniform\")`\n",
      "  \"\"\"Entry point for launching an IPython kernel.\n"
     ]
    }
   ],
   "source": [
    "model.add(Dense(units=128, init=\"random_uniform\", activation='relu'))"
   ]
  },
  {
   "cell_type": "code",
   "execution_count": 29,
   "id": "e26e2788",
   "metadata": {},
   "outputs": [
    {
     "name": "stderr",
     "output_type": "stream",
     "text": [
      "C:\\Users\\Home\\anaconda3\\envs\\tensorflow\\lib\\site-packages\\ipykernel_launcher.py:1: UserWarning: Update your `Dense` call to the Keras 2 API: `Dense(units=3, activation=\"softmax\", kernel_initializer=\"random_uniform\")`\n",
      "  \"\"\"Entry point for launching an IPython kernel.\n"
     ]
    }
   ],
   "source": [
    "model.add(Dense(units=3, init=\"random_uniform\", activation='softmax'))"
   ]
  },
  {
   "cell_type": "code",
   "execution_count": 30,
   "id": "f5897ceb",
   "metadata": {},
   "outputs": [],
   "source": [
    "model.compile(optimizer='adam',loss='categorical_crossentropy',metrics=['accuracy'])"
   ]
  },
  {
   "cell_type": "code",
   "execution_count": 31,
   "id": "570b00df",
   "metadata": {
    "scrolled": true
   },
   "outputs": [
    {
     "name": "stdout",
     "output_type": "stream",
     "text": [
      "Epoch 1/20\n",
      "47/47 [==============================] - 64s 1s/step - loss: 0.4015 - accuracy: 0.8490 - val_loss: 0.6196 - val_accuracy: 0.5620\n",
      "Epoch 2/20\n",
      "47/47 [==============================] - 10s 210ms/step - loss: 0.0303 - accuracy: 0.9933 - val_loss: 0.4872 - val_accuracy: 0.8487\n",
      "Epoch 3/20\n",
      "47/47 [==============================] - 10s 203ms/step - loss: 0.0175 - accuracy: 0.9953 - val_loss: 0.0548 - val_accuracy: 0.9466\n",
      "Epoch 4/20\n",
      "47/47 [==============================] - 9s 202ms/step - loss: 0.0172 - accuracy: 0.9960 - val_loss: 0.5842 - val_accuracy: 0.7303\n",
      "Epoch 5/20\n",
      "47/47 [==============================] - 9s 193ms/step - loss: 0.0125 - accuracy: 0.9973 - val_loss: 0.1806 - val_accuracy: 0.9402\n",
      "Epoch 6/20\n",
      "47/47 [==============================] - 10s 204ms/step - loss: 0.0180 - accuracy: 0.9940 - val_loss: 0.1139 - val_accuracy: 0.9539\n",
      "Epoch 7/20\n",
      "47/47 [==============================] - 9s 191ms/step - loss: 0.0050 - accuracy: 0.9987 - val_loss: 0.2492 - val_accuracy: 0.9466\n",
      "Epoch 8/20\n",
      "47/47 [==============================] - 14s 300ms/step - loss: 0.0023 - accuracy: 1.0000 - val_loss: 1.0743 - val_accuracy: 0.8640\n",
      "Epoch 9/20\n",
      "47/47 [==============================] - 10s 205ms/step - loss: 0.0120 - accuracy: 0.9973 - val_loss: 0.2726 - val_accuracy: 0.9209\n",
      "Epoch 10/20\n",
      "47/47 [==============================] - 9s 196ms/step - loss: 0.0045 - accuracy: 0.9987 - val_loss: 0.3150 - val_accuracy: 0.9693\n",
      "Epoch 11/20\n",
      "47/47 [==============================] - 10s 204ms/step - loss: 9.8582e-04 - accuracy: 1.0000 - val_loss: 0.7288 - val_accuracy: 0.9444\n",
      "Epoch 12/20\n",
      "47/47 [==============================] - 10s 203ms/step - loss: 3.3471e-04 - accuracy: 1.0000 - val_loss: 0.3851 - val_accuracy: 0.9605\n",
      "Epoch 13/20\n",
      "47/47 [==============================] - 9s 196ms/step - loss: 7.8969e-04 - accuracy: 1.0000 - val_loss: 0.0151 - val_accuracy: 0.9615\n",
      "Epoch 14/20\n",
      "47/47 [==============================] - 10s 202ms/step - loss: 1.8656e-04 - accuracy: 1.0000 - val_loss: 0.0105 - val_accuracy: 0.9693\n",
      "Epoch 15/20\n",
      "47/47 [==============================] - 9s 194ms/step - loss: 0.0018 - accuracy: 0.9993 - val_loss: 0.0864 - val_accuracy: 0.9722\n",
      "Epoch 16/20\n",
      "47/47 [==============================] - 10s 202ms/step - loss: 0.0034 - accuracy: 0.9993 - val_loss: 1.1907 - val_accuracy: 0.7237\n",
      "Epoch 17/20\n",
      "47/47 [==============================] - 9s 201ms/step - loss: 0.0060 - accuracy: 0.9980 - val_loss: 0.2288 - val_accuracy: 0.9573\n",
      "Epoch 18/20\n",
      "47/47 [==============================] - 10s 203ms/step - loss: 5.2412e-04 - accuracy: 1.0000 - val_loss: 0.3610 - val_accuracy: 0.9605\n",
      "Epoch 19/20\n",
      "47/47 [==============================] - 10s 208ms/step - loss: 2.8386e-04 - accuracy: 1.0000 - val_loss: 0.2960 - val_accuracy: 0.9701\n",
      "Epoch 20/20\n",
      "47/47 [==============================] - 10s 211ms/step - loss: 2.6187e-04 - accuracy: 1.0000 - val_loss: 0.0653 - val_accuracy: 0.9583\n"
     ]
    },
    {
     "data": {
      "text/plain": [
       "<keras.callbacks.callbacks.History at 0x168ea942348>"
      ]
     },
     "execution_count": 31,
     "metadata": {},
     "output_type": "execute_result"
    }
   ],
   "source": [
    "model.fit_generator(x_train, steps_per_epoch=47, epochs=20, validation_data=x_test, validation_steps=15)"
   ]
  },
  {
   "cell_type": "code",
   "execution_count": 32,
   "id": "d2256946",
   "metadata": {},
   "outputs": [],
   "source": [
    "model.save(\"Recognizer_set1.h5\")"
   ]
  },
  {
   "cell_type": "code",
   "execution_count": 41,
   "id": "6435e671",
   "metadata": {},
   "outputs": [],
   "source": [
    "model.save(\"Recognizer_set3.h5\")"
   ]
  },
  {
   "cell_type": "code",
   "execution_count": null,
   "id": "e34f1ca9",
   "metadata": {},
   "outputs": [],
   "source": []
  }
 ],
 "metadata": {
  "kernelspec": {
   "display_name": "Python 3",
   "language": "python",
   "name": "python3"
  },
  "language_info": {
   "codemirror_mode": {
    "name": "ipython",
    "version": 3
   },
   "file_extension": ".py",
   "mimetype": "text/x-python",
   "name": "python",
   "nbconvert_exporter": "python",
   "pygments_lexer": "ipython3",
   "version": "3.7.10"
  }
 },
 "nbformat": 4,
 "nbformat_minor": 5
}
