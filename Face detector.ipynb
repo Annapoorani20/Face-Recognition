{
 "cells": [
  {
   "cell_type": "code",
   "execution_count": 8,
   "id": "21f951e2",
   "metadata": {},
   "outputs": [],
   "source": [
    "import cv2\n",
    "from keras.models import load_model\n",
    "import numpy as np\n",
    "from PIL import Image"
   ]
  },
  {
   "cell_type": "code",
   "execution_count": 9,
   "id": "2df4f80d",
   "metadata": {},
   "outputs": [],
   "source": [
    "model=load_model(\"Recognizer_set1.h5\")"
   ]
  },
  {
   "cell_type": "code",
   "execution_count": 10,
   "id": "2ac0971f",
   "metadata": {},
   "outputs": [],
   "source": [
    "face_cascade=cv2.CascadeClassifier(\"haarcascade_frontalface_default.xml\")\n",
    "classes=['Albeena','Poorani','Srinidhi']"
   ]
  },
  {
   "cell_type": "code",
   "execution_count": 11,
   "id": "e79f6576",
   "metadata": {},
   "outputs": [],
   "source": [
    "cam=cv2.VideoCapture(0)\n",
    "while True:\n",
    "    _, frame=cam.read()\n",
    "    faces=face_cascade.detectMultiScale(frame, 1.3, 5)\n",
    "    for (x,y,w,h) in faces:\n",
    "        cv2.rectangle(frame,(x,y),(x+w,y+h),(255,0,0),2)\n",
    "        face=frame[y:y+h, x:x+w]\n",
    "        if type(face) is np.ndarray:\n",
    "            face=cv2.resize(face, (64,64))\n",
    "            im=Image.fromarray(face, 'RGB')\n",
    "            img_array=np.array(im)\n",
    "            \n",
    "            img_array=np.expand_dims(img_array, axis=0)\n",
    "            pred=model.predict(img_array)\n",
    "            label=classes[pred.argmax()]\n",
    "            \n",
    "            \n",
    "    \n",
    "    cv2.putText(frame, str(label), (x,y), cv2.FONT_HERSHEY_SIMPLEX, 0.8, (0,255,0), 2)\n",
    "    cv2.imshow('frame',frame)\n",
    "    \n",
    "\n",
    "    if cv2.waitKey(1) & 0xFF==ord('q'):\n",
    "        break\n",
    "    \n",
    "cam.release()\n",
    "cv2.destroyAllWindows()"
   ]
  },
  {
   "cell_type": "code",
   "execution_count": null,
   "id": "47b5ade8",
   "metadata": {},
   "outputs": [],
   "source": []
  },
  {
   "cell_type": "code",
   "execution_count": null,
   "id": "4e96e894",
   "metadata": {},
   "outputs": [],
   "source": []
  }
 ],
 "metadata": {
  "kernelspec": {
   "display_name": "Python 3",
   "language": "python",
   "name": "python3"
  },
  "language_info": {
   "codemirror_mode": {
    "name": "ipython",
    "version": 3
   },
   "file_extension": ".py",
   "mimetype": "text/x-python",
   "name": "python",
   "nbconvert_exporter": "python",
   "pygments_lexer": "ipython3",
   "version": "3.7.10"
  }
 },
 "nbformat": 4,
 "nbformat_minor": 5
}
